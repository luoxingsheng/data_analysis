{
 "cells": [
  {
   "cell_type": "markdown",
   "id": "acafac2a-407b-4211-b4c0-bb70106ec251",
   "metadata": {},
   "source": [
    "规则：赌徒和庄家玩投硬币，正面在上，赌徒赢，反面在上，庄家赢，输家付给赢家1个金币，赌徒初始有10个金币，有10000个参与，最高100轮，输光者推出赌局"
   ]
  },
  {
   "cell_type": "code",
   "execution_count": 39,
   "id": "0ce864b8-6980-4a7f-8abe-4d8b276828a2",
   "metadata": {},
   "outputs": [],
   "source": [
    "# 主要使用pandas和numpy\n",
    "import pandas as pd\n",
    "import numpy as np"
   ]
  },
  {
   "cell_type": "code",
   "execution_count": 40,
   "id": "73dbbfc0-b0c2-4789-b8ca-806540477dce",
   "metadata": {},
   "outputs": [],
   "source": [
    "# 人数\n",
    "person_num = 100\n",
    "# 游戏次数\n",
    "play_times = 100\n",
    "# 玩家本金\n",
    "money = 10\n",
    "# 游戏结果\n",
    "log = []"
   ]
  },
  {
   "cell_type": "code",
   "execution_count": 41,
   "id": "ef142b76-b79b-4c1d-8eed-d506c1c7a459",
   "metadata": {},
   "outputs": [],
   "source": [
    "# 遍历人数代表每个人单独计算游戏结果\n",
    "for person in range(1,person_num+1):\n",
    "    # 每个人重置本金\n",
    "    money = 10\n",
    "    # 遍历游戏次数，每次单独计算结果\n",
    "    for time in range(1,play_times+1):\n",
    "        result = np.random.choice([0,1])\n",
    "        # result=1代表正面，玩家金币加1，result=0代表反面，玩家金币减1，金币归0，玩家游戏结束\n",
    "        if result == 1:\n",
    "            money+=1\n",
    "        elif result == 0:\n",
    "            money-=1\n",
    "        if money == 0:\n",
    "            break\n",
    "    # 记录玩家游戏结果\n",
    "    log.append([person,time,money])"
   ]
  },
  {
   "cell_type": "code",
   "execution_count": 42,
   "id": "ecfb055e-1bf2-4ad2-b9d8-8f4c7202405f",
   "metadata": {},
   "outputs": [
    {
     "data": {
      "text/html": [
       "<div>\n",
       "<style scoped>\n",
       "    .dataframe tbody tr th:only-of-type {\n",
       "        vertical-align: middle;\n",
       "    }\n",
       "\n",
       "    .dataframe tbody tr th {\n",
       "        vertical-align: top;\n",
       "    }\n",
       "\n",
       "    .dataframe thead th {\n",
       "        text-align: right;\n",
       "    }\n",
       "</style>\n",
       "<table border=\"1\" class=\"dataframe\">\n",
       "  <thead>\n",
       "    <tr style=\"text-align: right;\">\n",
       "      <th></th>\n",
       "      <th>time</th>\n",
       "      <th>money</th>\n",
       "    </tr>\n",
       "    <tr>\n",
       "      <th>person</th>\n",
       "      <th></th>\n",
       "      <th></th>\n",
       "    </tr>\n",
       "  </thead>\n",
       "  <tbody>\n",
       "    <tr>\n",
       "      <th>1</th>\n",
       "      <td>100</td>\n",
       "      <td>10</td>\n",
       "    </tr>\n",
       "    <tr>\n",
       "      <th>2</th>\n",
       "      <td>100</td>\n",
       "      <td>20</td>\n",
       "    </tr>\n",
       "    <tr>\n",
       "      <th>3</th>\n",
       "      <td>100</td>\n",
       "      <td>18</td>\n",
       "    </tr>\n",
       "    <tr>\n",
       "      <th>4</th>\n",
       "      <td>26</td>\n",
       "      <td>0</td>\n",
       "    </tr>\n",
       "    <tr>\n",
       "      <th>5</th>\n",
       "      <td>100</td>\n",
       "      <td>18</td>\n",
       "    </tr>\n",
       "  </tbody>\n",
       "</table>\n",
       "</div>"
      ],
      "text/plain": [
       "        time  money\n",
       "person             \n",
       "1        100     10\n",
       "2        100     20\n",
       "3        100     18\n",
       "4         26      0\n",
       "5        100     18"
      ]
     },
     "execution_count": 42,
     "metadata": {},
     "output_type": "execute_result"
    }
   ],
   "source": [
    "# 数据转化为dataframe格式方便计算\n",
    "df = pd.DataFrame(log,columns=['person','time','money'])\n",
    "# 重新设置索引\n",
    "df.set_index('person',inplace=True)\n",
    "df.head()"
   ]
  },
  {
   "cell_type": "code",
   "execution_count": 43,
   "id": "8760447d-4147-4768-9efd-c9bd5048c73c",
   "metadata": {},
   "outputs": [
    {
     "data": {
      "text/plain": [
       "38"
      ]
     },
     "execution_count": 43,
     "metadata": {},
     "output_type": "execute_result"
    }
   ],
   "source": [
    "# 输光提前出局的人\n",
    "money_0 = df.query('money==0&time<@play_times').shape[0]\n",
    "money_0"
   ]
  },
  {
   "cell_type": "code",
   "execution_count": 47,
   "id": "3849688d-e731-470e-9bad-0a3c6897f212",
   "metadata": {},
   "outputs": [
    {
     "data": {
      "text/plain": [
       "62"
      ]
     },
     "execution_count": 47,
     "metadata": {},
     "output_type": "execute_result"
    }
   ],
   "source": [
    "# 赌满全场且赚钱的人\n",
    "money_1 = df.query('money>=@money&time==@play_times').shape[0]\n",
    "money_1"
   ]
  },
  {
   "cell_type": "code",
   "execution_count": 48,
   "id": "d94d1a60-89a8-449f-bdc4-f17f1c518940",
   "metadata": {},
   "outputs": [
    {
     "data": {
      "text/plain": [
       "0"
      ]
     },
     "execution_count": 48,
     "metadata": {},
     "output_type": "execute_result"
    }
   ],
   "source": [
    "# 赌满全场且亏欠钱的人\n",
    "money_2 = df.query('money<@money&time==@play_times').shape[0]\n",
    "money_2"
   ]
  },
  {
   "cell_type": "code",
   "execution_count": 49,
   "id": "bcdc74a1-9a90-4977-9b8c-385e3e06d41a",
   "metadata": {},
   "outputs": [
    {
     "name": "stdout",
     "output_type": "stream",
     "text": [
      "总轮数：100，总人数：100\n",
      "输光提前出局的人：38\n",
      "赌满全场且赚钱的人：62\n",
      "赌满全场且亏欠钱的人：0\n"
     ]
    }
   ],
   "source": [
    "print(f'总轮数：{play_times}，总人数：{person_num}')\n",
    "print(f'输光提前出局的人：{money_0}')\n",
    "print(f'赌满全场且赚钱的人：{money_1}')\n",
    "print(f'赌满全场且亏欠钱的人：{money_2}')"
   ]
  },
  {
   "cell_type": "code",
   "execution_count": 51,
   "id": "6b8b4e72-768e-4279-8213-d53772bf3ca4",
   "metadata": {},
   "outputs": [],
   "source": [
    "import pandas as pd\n",
    "import numpy as np\n",
    "\n",
    "def gamble(person_num,play_times,gold):\n",
    "    log = []\n",
    "    for person in range(1,person_num+1):\n",
    "        money = gold\n",
    "        for time in range(1,play_times+1):\n",
    "            result = np.random.choice([0,1])\n",
    "            if result == 1:\n",
    "                money+=1\n",
    "            elif result == 0:\n",
    "                money-=1\n",
    "            if money == 0:\n",
    "                break\n",
    "        log.append([person,time,money])\n",
    "    df = pd.DataFrame(log,columns=['person','time','money'])\n",
    "    money_0 = df.query('money==0&time<@play_times').shape[0]\n",
    "    money_1 = df.query('money>=@gold&time==@play_times').shape[0]\n",
    "    money_2 = df.query('money<@gold&time==@play_times').shape[0]\n",
    "    \n",
    "    print(f'总人数：{person_num}，总轮数：{play_times}，初始金币：{gold}')\n",
    "    print(f'输光提前出局的人：{money_0}')\n",
    "    print(f'赌满全场且赚钱的人：{money_1}')\n",
    "    print(f'赌满全场且亏欠钱的人：{money_2}')"
   ]
  },
  {
   "cell_type": "code",
   "execution_count": 52,
   "id": "9233873b-30d1-4d2e-866e-2a8ce2616798",
   "metadata": {},
   "outputs": [
    {
     "name": "stdout",
     "output_type": "stream",
     "text": [
      "总人数：100，总轮数：100，初始金币：10\n",
      "输光提前出局的人：40\n",
      "赌满全场且赚钱的人：43\n",
      "赌满全场且亏欠钱的人：17\n"
     ]
    }
   ],
   "source": [
    "gamble(100,100,10)"
   ]
  },
  {
   "cell_type": "code",
   "execution_count": 53,
   "id": "9b46cf6a-a19f-4158-a9c3-828353ffc00d",
   "metadata": {},
   "outputs": [
    {
     "name": "stdout",
     "output_type": "stream",
     "text": [
      "总人数：100，总轮数：1000，初始金币：10\n",
      "输光提前出局的人：79\n",
      "赌满全场且赚钱的人：20\n",
      "赌满全场且亏欠钱的人：1\n"
     ]
    }
   ],
   "source": [
    "gamble(100,1000,10)"
   ]
  },
  {
   "cell_type": "code",
   "execution_count": 54,
   "id": "d3cb02fa-06e9-4af4-8947-c8f727145cfd",
   "metadata": {},
   "outputs": [
    {
     "name": "stdout",
     "output_type": "stream",
     "text": [
      "总人数：100，总轮数：10000，初始金币：10\n",
      "输光提前出局的人：90\n",
      "赌满全场且赚钱的人：10\n",
      "赌满全场且亏欠钱的人：0\n"
     ]
    }
   ],
   "source": [
    "gamble(100,10000,10)"
   ]
  },
  {
   "cell_type": "code",
   "execution_count": 55,
   "id": "80a1d0bb-00bb-4297-b910-3786deb28d2e",
   "metadata": {},
   "outputs": [
    {
     "name": "stdout",
     "output_type": "stream",
     "text": [
      "总人数：100，总轮数：100000，初始金币：10\n",
      "输光提前出局的人：98\n",
      "赌满全场且赚钱的人：2\n",
      "赌满全场且亏欠钱的人：0\n"
     ]
    }
   ],
   "source": [
    "gamble(100,100000,10)"
   ]
  },
  {
   "cell_type": "code",
   "execution_count": 56,
   "id": "7d5cea36-853a-4ced-891c-1e1e39b1e7c5",
   "metadata": {},
   "outputs": [
    {
     "name": "stdout",
     "output_type": "stream",
     "text": [
      "总人数：1000，总轮数：100，初始金币：10\n",
      "输光提前出局的人：316\n",
      "赌满全场且赚钱的人：513\n",
      "赌满全场且亏欠钱的人：171\n"
     ]
    }
   ],
   "source": [
    "gamble(1000,100,10)"
   ]
  },
  {
   "cell_type": "code",
   "execution_count": 57,
   "id": "4ce4f407-a751-4247-8d10-54634a1f525b",
   "metadata": {},
   "outputs": [
    {
     "name": "stdout",
     "output_type": "stream",
     "text": [
      "总人数：10000，总轮数：100，初始金币：10\n",
      "输光提前出局的人：3128\n",
      "赌满全场且赚钱的人：5105\n",
      "赌满全场且亏欠钱的人：1767\n"
     ]
    }
   ],
   "source": [
    "gamble(10000,100,10)"
   ]
  },
  {
   "cell_type": "code",
   "execution_count": null,
   "id": "6d37e6e6-32f2-45f6-baa4-df8d537c8767",
   "metadata": {},
   "outputs": [],
   "source": []
  },
  {
   "cell_type": "code",
   "execution_count": 58,
   "id": "363219a2-e832-44cc-ad8b-3e6d6a0a2bc9",
   "metadata": {},
   "outputs": [
    {
     "name": "stdout",
     "output_type": "stream",
     "text": [
      "总人数：100，总轮数：100，初始金币：10\n",
      "输光提前出局的人：34\n",
      "赌满全场且赚钱的人：51\n",
      "赌满全场且亏欠钱的人：15\n"
     ]
    }
   ],
   "source": [
    "gamble(100,100,10)"
   ]
  },
  {
   "cell_type": "code",
   "execution_count": 59,
   "id": "87e84528-3b48-43ea-98b0-ff77b49380a5",
   "metadata": {},
   "outputs": [
    {
     "name": "stdout",
     "output_type": "stream",
     "text": [
      "总人数：1000，总轮数：100，初始金币：10\n",
      "输光提前出局的人：336\n",
      "赌满全场且赚钱的人：516\n",
      "赌满全场且亏欠钱的人：148\n"
     ]
    }
   ],
   "source": [
    "gamble(1000,100,10)"
   ]
  },
  {
   "cell_type": "code",
   "execution_count": 60,
   "id": "76ca00d0-a8f4-407e-b450-164f41c1d5e2",
   "metadata": {},
   "outputs": [
    {
     "name": "stdout",
     "output_type": "stream",
     "text": [
      "总人数：10000，总轮数：100，初始金币：10\n",
      "输光提前出局的人：3119\n",
      "赌满全场且赚钱的人：5129\n",
      "赌满全场且亏欠钱的人：1752\n"
     ]
    }
   ],
   "source": [
    "gamble(10000,100,10)"
   ]
  },
  {
   "cell_type": "code",
   "execution_count": null,
   "id": "f250c292-5683-4ff9-9051-eacedd749361",
   "metadata": {},
   "outputs": [],
   "source": []
  },
  {
   "cell_type": "code",
   "execution_count": 72,
   "id": "897f5c20-182d-4dc6-ba4e-d72418918d52",
   "metadata": {},
   "outputs": [
    {
     "name": "stdout",
     "output_type": "stream",
     "text": [
      "总人数：1000，总轮数：1000，初始金币：10\n",
      "输光提前出局的人：739\n",
      "赌满全场且赚钱的人：254\n",
      "赌满全场且亏欠钱的人：7\n"
     ]
    }
   ],
   "source": [
    "gamble(1000,1000,10)"
   ]
  },
  {
   "cell_type": "code",
   "execution_count": 73,
   "id": "636b4170-b69a-4e0f-9dd1-3daa254bc615",
   "metadata": {},
   "outputs": [
    {
     "name": "stdout",
     "output_type": "stream",
     "text": [
      "总人数：1000，总轮数：1000，初始金币：100\n",
      "输光提前出局的人：2\n",
      "赌满全场且赚钱的人：506\n",
      "赌满全场且亏欠钱的人：492\n"
     ]
    }
   ],
   "source": [
    "gamble(1000,1000,100)"
   ]
  },
  {
   "cell_type": "code",
   "execution_count": 74,
   "id": "678ca344-1384-490a-90dd-d508e92b4c06",
   "metadata": {},
   "outputs": [
    {
     "name": "stdout",
     "output_type": "stream",
     "text": [
      "总人数：1000，总轮数：1000，初始金币：500\n",
      "输光提前出局的人：0\n",
      "赌满全场且赚钱的人：514\n",
      "赌满全场且亏欠钱的人：486\n"
     ]
    }
   ],
   "source": [
    "gamble(1000,1000,500)"
   ]
  },
  {
   "cell_type": "code",
   "execution_count": null,
   "id": "2d81d9b9-671d-494d-b99d-12b546ebbff4",
   "metadata": {},
   "outputs": [],
   "source": []
  },
  {
   "cell_type": "markdown",
   "id": "f9ea76c4-c6a9-44c0-8d4b-d3ccdc01ea3c",
   "metadata": {},
   "source": [
    "现象：此次测试，自变量有三个，游戏次数，参与人数，持有金币  \n",
    "* 参与人数的变化对实现结果影响不大，不予考虑  \n",
    "* 参与人数和持有金币相同的情况下，游戏次数越多玩家获胜的概率越低  \n",
    "* 参与人数和游戏次数相同的情况下，持有金币越多玩家获胜的概率越高，但是不会无限提高，最终恒定在50%左右"
   ]
  },
  {
   "cell_type": "markdown",
   "id": "49e0c8e1-8d78-4d17-bd38-9b3f98b2e118",
   "metadata": {},
   "source": [
    "结论：十赌九输，即使是这种公平的投硬币比赛，只要赌博的次数足够多，大部分人都会输的倾家荡产，更不要说大部分赌博都不是公平的，庄家还会有抽水\n",
    "。大部分人玩下去，最后结果都是倾家荡产。因为庄家的本金对于赌徒而言几乎是无限的，他可以输很多次，但是你输不起。"
   ]
  },
  {
   "cell_type": "code",
   "execution_count": null,
   "id": "04144b6f-8efc-4493-a68b-1d0e1888283c",
   "metadata": {},
   "outputs": [],
   "source": [
    "拓展：图像展示"
   ]
  },
  {
   "cell_type": "code",
   "execution_count": 75,
   "id": "4c2f1a8e-e958-4d3b-8cf8-c3a70c968e5e",
   "metadata": {},
   "outputs": [],
   "source": [
    "import pandas as pd\n",
    "import numpy as np\n",
    "\n",
    "def gamble(person_num,play_times,gold):\n",
    "    data = []\n",
    "    log = []\n",
    "    for person in range(1,person_num+1):\n",
    "        money = gold\n",
    "        for time in range(1,play_times+1):\n",
    "            result = np.random.choice([0,1])\n",
    "            if result == 1:\n",
    "                money+=1\n",
    "            elif result == 0:\n",
    "                money-=1\n",
    "            if money == 0:\n",
    "                break\n",
    "        log.append([person,time,money])\n",
    "    df = pd.DataFrame(log,columns=['person','time','money'])\n",
    "    money_0 = df.query('money==0&time<@play_times').shape[0]\n",
    "    money_1 = df.query('money>=@gold&time==@play_times').shape[0]\n",
    "    money_2 = df.query('money<@gold&time==@play_times').shape[0]\n",
    "\n",
    "    data=[money_0,money_1,money_2]\n",
    "    return data"
   ]
  },
  {
   "cell_type": "code",
   "execution_count": 76,
   "id": "70a03f95-af51-4b6c-986a-a3ad7e568b0f",
   "metadata": {},
   "outputs": [
    {
     "data": {
      "text/plain": [
       "<matplotlib.legend.Legend at 0x7fd3dd41eca0>"
      ]
     },
     "execution_count": 76,
     "metadata": {},
     "output_type": "execute_result"
    },
    {
     "data": {
      "text/plain": [
       "<Figure size 432x288 with 0 Axes>"
      ]
     },
     "metadata": {},
     "output_type": "display_data"
    },
    {
     "data": {
      "image/png": "[encoded data removed]",
      "text/plain": [
       "<Figure size 432x288 with 1 Axes>"
      ]
     },
     "metadata": {
      "needs_background": "light"
     },
     "output_type": "display_data"
    }
   ],
   "source": [
    "data_list = []\n",
    "times = np.linspace(100,10000,100)\n",
    "for i in times:\n",
    "    data_list.append(gamble(100,int(i),10))\n",
    "df = pd.DataFrame(data_list,columns=list('ABC'),index=times)\n",
    "\n",
    "import matplotlib.pyplot as plt\n",
    "figure = plt.figure()\n",
    "df.plot(xlabel='游戏次数',ylabel='结果')\n",
    "plt.xlim([100,10000])\n",
    "plt.legend(['输光提前出局的人','赌满全场且赚钱的人','赌满全场且亏欠钱的人'])"
   ]
  }
 ],
 "metadata": {
  "kernelspec": {
   "display_name": "Python 3",
   "language": "python",
   "name": "python3"
  },
  "language_info": {
   "codemirror_mode": {
    "name": "ipython",
    "version": 3
   },
   "file_extension": ".py",
   "mimetype": "text/x-python",
   "name": "python",
   "nbconvert_exporter": "python",
   "pygments_lexer": "ipython3",
   "version": "3.8.8"
  }
 },
 "nbformat": 4,
 "nbformat_minor": 5
}
